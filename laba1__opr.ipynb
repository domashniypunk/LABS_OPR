{
  "cells": [
    {
      "cell_type": "code",
      "execution_count": null,
      "metadata": {
        "id": "QRQmvMGi3ISU"
      },
      "outputs": [],
      "source": [
        "import numpy as np\n",
        "import random as rnd\n",
        "\n",
        "from numpy.random.mtrand import permutation\n",
        "import itertools\n",
        "import time"
      ]
    },
    {
      "cell_type": "code",
      "execution_count": null,
      "metadata": {
        "id": "W6V1oPTi3ISX"
      },
      "outputs": [],
      "source": [
        "symbol_size = 34 \n",
        "\n",
        "string_input = \"ЛещунАнна\"\n",
        "\n",
        "rus_symbol_list = ''.join([chr(i) for i in range(ord('а'), ord('а') + 6)] + [chr(ord('а') + 33)] + [chr(i) for i in range(ord('а') + 6, ord('а') + 32)])"
      ]
    },
    {
      "cell_type": "code",
      "execution_count": null,
      "metadata": {
        "id": "xkiOZ_lW3ISX"
      },
      "outputs": [],
      "source": [
        "def create_symbol_index(string_input):\n",
        "  symbol_list = list(string_input.lower())\n",
        "\n",
        "  index_matrix = []\n",
        "  for i in range(len(symbol_list)):\n",
        "    for j in range(len(rus_symbol_list)):\n",
        "      if(symbol_list[i] == rus_symbol_list[j]):\n",
        "        index_matrix.append(j + 1)\n",
        "  return index_matrix"
      ]
    },
    {
      "cell_type": "code",
      "execution_count": null,
      "metadata": {
        "id": "ClpT_1Pq3ISY"
      },
      "outputs": [],
      "source": [
        "def create_matrix_byFIO(string_input, size):\n",
        "  index, index_matrix = 0, create_symbol_index(string_input)\n",
        "  result_matrix_FIO = np.zeros((size, size))\n",
        "  np.fill_diagonal(result_matrix_FIO, symbol_size)\n",
        "\n",
        "  for i in range(size):\n",
        "    for j in range(size):\n",
        "      if(j <= i - 1):\n",
        "        if(index < len(index_matrix)):\n",
        "          result_matrix_FIO[i, j] = index_matrix[index]\n",
        "          result_matrix_FIO[j, i] = result_matrix_FIO[i, j]\n",
        "          index += 1\n",
        "        elif(index > len(index_matrix)):\n",
        "          break\n",
        "        else:\n",
        "          result_matrix_FIO[i, j], result_matrix_FIO[j, i] = 1, 1\n",
        "\n",
        "  print('Начальная матрица:')\n",
        "  print(result_matrix_FIO)\n",
        "  return result_matrix_FIO"
      ]
    },
    {
      "cell_type": "code",
      "execution_count": null,
      "metadata": {
        "id": "6xRodiCE3ISZ"
      },
      "outputs": [],
      "source": [
        "def create_matrix_random(size):\n",
        "  result_matrix_random = np.zeros((size, size))\n",
        "  np.fill_diagonal(result_matrix_random, symbol_size)\n",
        "\n",
        "  for i in range(size):\n",
        "    for j in range(size):\n",
        "      if(j <= i - 1):\n",
        "        result_matrix_random[i, j] = rnd.randint(1, 33)\n",
        "        result_matrix_random[j, i] = result_matrix_random[i, j]\n",
        "\n",
        "  print('Начальная матрица(random): ')\n",
        "  print(result_matrix_random)\n",
        "  return result_matrix_random"
      ]
    },
    {
      "cell_type": "code",
      "execution_count": null,
      "metadata": {
        "id": "ko99pG693ISZ"
      },
      "outputs": [],
      "source": [
        "#Функция нахождения минимального значения в строке и его позиции/ый\n",
        "def get_min_value(matrix, index):\n",
        "  min_value = np.min(matrix[index, :])\n",
        "  positions = [ind for ind, val in enumerate(matrix[index, :]) if val == min_value]\n",
        "  return min_value, positions"
      ]
    },
    {
      "cell_type": "code",
      "execution_count": null,
      "metadata": {
        "id": "O8A874ui3ISa"
      },
      "outputs": [],
      "source": [
        "#Функция замены числа на что-то большое\n",
        "def replace_value(matrix, index):\n",
        "  matrix[:, index] = 34\n",
        "  return matrix"
      ]
    },
    {
      "cell_type": "markdown",
      "metadata": {
        "id": "7b_3KADO3ISa"
      },
      "source": [
        "Жадный алгоритм"
      ]
    },
    {
      "cell_type": "code",
      "execution_count": null,
      "metadata": {
        "id": "H-2OcqHe3ISc"
      },
      "outputs": [],
      "source": [
        "#Функция расчета жадного алгоритма\n",
        "def greedy_algorithm(matrix_FIO):\n",
        "  i = 0\n",
        "  first = matrix_FIO[:, 0].copy()\n",
        "  list_min_value = []\n",
        "  position = 0\n",
        "  list_positions = []\n",
        "  list_positions.append(1)\n",
        "  while(i < len(matrix_FIO)):\n",
        "    if(i == len(matrix_FIO) - 1):\n",
        "      for i in range(len(matrix_FIO[:, 0])):\n",
        "        matrix_FIO[i, 0] = first[i]\n",
        "\n",
        "    min_value, positions = get_min_value(matrix_FIO, position)\n",
        "    list_min_value.append(min_value)\n",
        "    matrix_FIO = replace_value(matrix_FIO, position)\n",
        "    if(len(positions) >= 1):\n",
        "      position = positions[0]\n",
        "    else:\n",
        "      position = positions[0] \n",
        "    list_positions.append(position + 1) \n",
        "    #print(matrix_FIO)\n",
        "    i = i + 1\n",
        "\n",
        "  print(f'Позиции: {list_positions}')\n",
        "  print(f'Минимумы: {list_min_value}')\n",
        "  print(f'Сумма: {np.sum(list_min_value)} мин\\n')"
      ]
    },
    {
      "cell_type": "code",
      "execution_count": null,
      "metadata": {
        "colab": {
          "base_uri": "https://localhost:8080/"
        },
        "id": "NvvqEhZ73ISc",
        "outputId": "a61956a0-6ba9-4a58-d72e-66a7460afc1c"
      },
      "outputs": [
        {
          "output_type": "stream",
          "name": "stdout",
          "text": [
            "Начальная матрица:\n",
            "[[34. 13.  6. 21. 15.]\n",
            " [13. 34. 27. 15. 15.]\n",
            " [ 6. 27. 34.  1.  1.]\n",
            " [21. 15.  1. 34.  1.]\n",
            " [15. 15.  1.  1. 34.]]\n",
            "Начальная матрица(random): \n",
            "[[34. 17. 29. 29. 13. 18. 29. 28. 29. 33.]\n",
            " [17. 34. 30. 10. 11. 25. 30. 20. 18. 26.]\n",
            " [29. 30. 34. 25. 18. 19. 16.  7. 29.  9.]\n",
            " [29. 10. 25. 34. 13. 25. 19.  3.  1. 32.]\n",
            " [13. 11. 18. 13. 34. 10. 20. 15. 20. 31.]\n",
            " [18. 25. 19. 25. 10. 34. 21. 33. 20. 22.]\n",
            " [29. 30. 16. 19. 20. 21. 34. 17. 31. 16.]\n",
            " [28. 20.  7.  3. 15. 33. 17. 34. 27. 20.]\n",
            " [29. 18. 29.  1. 20. 20. 31. 27. 34. 15.]\n",
            " [33. 26.  9. 32. 31. 22. 16. 20. 15. 34.]]\n"
          ]
        }
      ],
      "source": [
        "matrix_FIO_5_1 = create_matrix_byFIO(string_input, 5)\n",
        "matrix_FIO_5_2 = matrix_FIO_5_1.copy()\n",
        "\n",
        "matrix_random_10_1 = create_matrix_random(10)\n",
        "matrix_random_10_2 = matrix_random_10_1.copy()"
      ]
    },
    {
      "cell_type": "code",
      "execution_count": null,
      "metadata": {
        "colab": {
          "base_uri": "https://localhost:8080/"
        },
        "id": "nC3eu45-3ISd",
        "outputId": "e7f85a02-d12c-46bd-b23f-e8151a88a0d9"
      },
      "outputs": [
        {
          "output_type": "stream",
          "name": "stdout",
          "text": [
            "Матрица 5х5: \n",
            "Позиции: [1, 3, 4, 5, 2, 1]\n",
            "Минимумы: [6.0, 1.0, 1.0, 15.0, 13.0]\n",
            "Сумма: 36.0 мин\n",
            "\n",
            "Матрица 10х10: \n",
            "Позиции: [1, 5, 6, 3, 8, 4, 9, 10, 7, 2, 1]\n",
            "Минимумы: [13.0, 10.0, 19.0, 7.0, 3.0, 1.0, 15.0, 16.0, 30.0, 17.0]\n",
            "Сумма: 131.0 мин\n",
            "\n"
          ]
        }
      ],
      "source": [
        "print('Матрица 5х5: ')\n",
        "greedy_algorithm(matrix_FIO_5_1)\n",
        "\n",
        "print('Матрица 10х10: ')\n",
        "greedy_algorithm(matrix_random_10_1)"
      ]
    },
    {
      "cell_type": "markdown",
      "metadata": {
        "id": "1Qh7dxEZ3ISe"
      },
      "source": [
        "Полный перебор"
      ]
    },
    {
      "cell_type": "code",
      "execution_count": null,
      "metadata": {
        "id": "SE8BQajS3ISe"
      },
      "outputs": [],
      "source": [
        "def full_search(input_matrix):\n",
        "  sum_list = []\n",
        "  row_value = []\n",
        "  for row in itertools.permutations(range(len(input_matrix[0, :]))):\n",
        "    sum = 0\n",
        "    for i in range(len(row)):\n",
        "      sum += input_matrix[i][row[i]]\n",
        "    sum_list.append(sum)\n",
        "\n",
        "    l = list(row)\n",
        "    l.append(l[0])\n",
        "    for i in range(len(l)):\n",
        "      l[i] += 1\n",
        "    row_value.append(l)\n",
        "\n",
        "  print(f'Последовательность: {row_value[np.argmin(sum_list)]}')\n",
        "  print(f'Мин. значение: {min(sum_list)} мин')\n",
        "  print(f'Макс. значение: {max(sum_list)} мин')\n",
        "  "
      ]
    },
    {
      "cell_type": "code",
      "execution_count": null,
      "metadata": {
        "colab": {
          "base_uri": "https://localhost:8080/"
        },
        "id": "IbFnNC6M3ISl",
        "outputId": "e40a7975-575b-4d2c-c5d3-2a68ebf9fca2"
      },
      "outputs": [
        {
          "output_type": "stream",
          "name": "stdout",
          "text": [
            "Матрица 5х5: \n",
            "Последовательность: [2, 1, 4, 5, 3, 2]\n",
            "Мин. значение: 29.0 мин\n",
            "Макс. значение: 170.0 мин\n",
            "\n",
            "Матрица 10x10: \n",
            "Последовательность: [2, 1, 8, 9, 6, 5, 10, 3, 4, 7, 2]\n",
            "Мин. значение: 102.0 мин\n",
            "Макс. значение: 340.0 мин\n"
          ]
        }
      ],
      "source": [
        "print('Матрица 5х5: ')\n",
        "full_search(matrix_FIO_5_2)\n",
        "\n",
        "print('\\nМатрица 10x10: ')\n",
        "full_search(matrix_random_10_2)"
      ]
    }
  ],
  "metadata": {
    "kernelspec": {
      "display_name": "Python 3",
      "language": "python",
      "name": "python3"
    },
    "language_info": {
      "codemirror_mode": {
        "name": "ipython",
        "version": 3
      },
      "file_extension": ".py",
      "mimetype": "text/x-python",
      "name": "python",
      "nbconvert_exporter": "python",
      "pygments_lexer": "ipython3",
      "version": "3.10.8"
    },
    "orig_nbformat": 4,
    "vscode": {
      "interpreter": {
        "hash": "0fb8b22959be10dcf07cc8fabb94544c51c9b466441eac771aead971dd5abb49"
      }
    },
    "colab": {
      "provenance": []
    }
  },
  "nbformat": 4,
  "nbformat_minor": 0
}