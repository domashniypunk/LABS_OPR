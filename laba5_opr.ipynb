{
  "cells": [
    {
      "cell_type": "code",
      "execution_count": null,
      "metadata": {
        "id": "GM-yDHi8AAjT"
      },
      "outputs": [],
      "source": [
        "import numpy as np\n",
        "a = np.array([40, 45, 55, 50])\n",
        "b = np.array([30, 45, 25, 50, 40])\n",
        "c = np.array([[5, 1, 3, 2, 5],\n",
        "              [4, 4, 3, 4, 7],\n",
        "              [7, 3, 4, 5, 4],\n",
        "              [3, 4, 5, 7, 6]])"
      ]
    },
    {
      "cell_type": "code",
      "execution_count": null,
      "metadata": {
        "id": "7j10MwO5AAjV"
      },
      "outputs": [],
      "source": [
        "def minimum_method(a, b, c):\n",
        "    local_a = np.copy(a)\n",
        "    local_b = np.copy(b)\n",
        "    local_c = np.copy(c)\n",
        "    local_x = np.zeros(c.shape, dtype=int)\n",
        "\n",
        "    while(np.sum(local_c) > 0):\n",
        "        i,j = np.where(local_c==np.min(local_c[np.nonzero(local_c)]))\n",
        "        i = i[0]\n",
        "        j = j[0]\n",
        "\n",
        "        minValue = np.min([local_a[i], local_b[j]])\n",
        "\n",
        "        local_x[i,j] = minValue\n",
        "\n",
        "        if(minValue == local_b[j]):\n",
        "            local_a[i] = local_a[i] - local_b[j]\n",
        "            local_b[j] = 0\n",
        "            local_c[:, j] = np.zeros(local_a.shape, dtype=int)\n",
        "        else:\n",
        "            local_b[j] = local_b[j] - local_a[i]\n",
        "            local_a[i] = 0\n",
        "            local_c[i] = np.zeros(local_b.shape, dtype=int)\n",
        "\n",
        "    return local_x"
      ]
    },
    {
      "cell_type": "code",
      "execution_count": null,
      "metadata": {
        "id": "YXZdTozuAAjW",
        "outputId": "3cb402d5-8489-420d-b2d6-b8655a86856a",
        "colab": {
          "base_uri": "https://localhost:8080/"
        }
      },
      "outputs": [
        {
          "output_type": "stream",
          "name": "stdout",
          "text": [
            "[[ 0 40  0  0  0]\n",
            " [ 0  0 25 20  0]\n",
            " [ 0  5  0 10 40]\n",
            " [30  0  0 20  0]]\n",
            "f = 650\n"
          ]
        }
      ],
      "source": [
        "x = minimum_method(a, b, c)\n",
        "print(x)\n",
        "print(\"f =\", np.sum(c * x))"
      ]
    },
    {
      "cell_type": "code",
      "execution_count": null,
      "metadata": {
        "id": "lZkJJi6vAAjW",
        "outputId": "7a523f9a-748c-4b47-a21d-d114ab65274d",
        "colab": {
          "base_uri": "https://localhost:8080/"
        }
      },
      "outputs": [
        {
          "output_type": "stream",
          "name": "stdout",
          "text": [
            "u =  [0. 1. 2. 4.]  v =  [0. 1. 2. 3. 2.]\n",
            "c matrix\n",
            "[[5 1 3 2 5]\n",
            " [4 4 3 4 7]\n",
            " [7 3 4 5 4]\n",
            " [3 4 5 7 6]]\n",
            "solution\n",
            "[[ 0 40  0  0  0]\n",
            " [ 0  0 25 20  0]\n",
            " [ 0  5  0 10 40]\n",
            " [30  0  0 20  0]]\n",
            "650\n"
          ]
        }
      ],
      "source": [
        "def fill_potencials(c, is_first_in_c, array_to_fill, array_indexes, array_from_fill, array_from_fill_indexes):\n",
        "    for i in range(array_from_fill.shape[0]):\n",
        "        if array_from_fill[i] != 0:\n",
        "            vdim_indx = np.argwhere(array_from_fill_indexes == i).flatten()\n",
        "            for id in vdim_indx:\n",
        "                if(id == 0):\n",
        "                    continue\n",
        "\n",
        "                if(array_to_fill[array_indexes[id]] != 0):\n",
        "                    continue\n",
        "\n",
        "                if is_first_in_c:\n",
        "                    array_to_fill[array_indexes[id]] = c[array_indexes[id], array_from_fill_indexes[id]] - array_from_fill[i]\n",
        "                else:\n",
        "                    array_to_fill[array_indexes[id]] = c[array_from_fill_indexes[id], array_indexes[id]] - array_from_fill[i]\n",
        "                array_to_fill[array_indexes[id]] = array_to_fill[array_indexes[id]]  if array_to_fill[array_indexes[id]] > 0 else -1\n",
        "\n",
        "u = np.zeros(a.shape)\n",
        "v = np.zeros(b.shape)\n",
        "\n",
        "u_indexes, v_indexes = np.where(x > 0)\n",
        "\n",
        "i = 0\n",
        "while u_indexes[i] == 0:\n",
        "    x_indx = u_indexes[i]\n",
        "    y_indx = v_indexes[i]\n",
        "    v[y_indx] = c[x_indx, y_indx]\n",
        "    i = i +1\n",
        "\n",
        "for k in range(20):\n",
        "    fill_potencials(c, True, u, u_indexes, v, v_indexes)\n",
        "    fill_potencials(c, False, v, v_indexes, u, u_indexes)\n",
        "\n",
        "v = np.where(v < 0, 0, v)\n",
        "u = np.where(u < 0, 0, u)\n",
        "print(\"u = \", u, \" v = \", v)\n",
        "print(\"c matrix\")\n",
        "print(c)\n",
        "print(\"solution\")\n",
        "print(x)\n",
        "x_base = x.copy()\n",
        "\n",
        "print(np.sum(x * c))"
      ]
    },
    {
      "cell_type": "code",
      "execution_count": null,
      "metadata": {
        "id": "MP7ftfo3AAjX"
      },
      "outputs": [],
      "source": [
        "def get_position(array, x, y):\n",
        "    corr_x = x\n",
        "    corr_y = y\n",
        "\n",
        "    if corr_x >= array.shape[0]:\n",
        "        corr_x = 0\n",
        "    elif corr_x < 0:\n",
        "        corr_x = array.shape[0]-1\n",
        "\n",
        "    if corr_y >= array.shape[1]:\n",
        "        corr_y = 0\n",
        "    elif corr_y < 0:\n",
        "        corr_y = array.shape[1]-1\n",
        "\n",
        "    return (corr_x, corr_y)\n",
        "\n",
        "def check_nodes(node1, node2, node1_modif, node2_modif):\n",
        "\n",
        "    node3, _ = get_position(x, node1 + node1_modif, node2)\n",
        "    _, node4= get_position(x, node1, node2 + node2_modif)\n",
        "\n",
        "    if x[node3, node2] != 0 and x[node1, node4] != 0:\n",
        "        minValue = np.min([x[node3, node2], x[node1, node4]])\n",
        "\n",
        "        x[node3, node2] = x[node3, node2] - minValue\n",
        "        x[node1, node4] = x[node1, node4] - minValue\n",
        "\n",
        "        x[node1, node2] = x[node1, node2] + minValue\n",
        "        x[node3, node4] = x[node3, node4] + minValue"
      ]
    },
    {
      "cell_type": "code",
      "execution_count": null,
      "metadata": {
        "id": "HeVBB25pAAjX",
        "outputId": "ead3ed60-8d1e-46b0-e9bb-608e7e885aec",
        "colab": {
          "base_uri": "https://localhost:8080/"
        }
      },
      "outputs": [
        {
          "output_type": "stream",
          "name": "stdout",
          "text": [
            "Iteration 0 f = 650\n"
          ]
        }
      ],
      "source": [
        "k = 0\n",
        "\n",
        "while k<1:\n",
        "\n",
        "    free_cells_x, free_cells_y = np.where(x == 0)\n",
        "\n",
        "    s = np.zeros(c.shape, dtype=int)\n",
        "\n",
        "    for i in range(free_cells_x.shape[0]):\n",
        "        s[free_cells_x[i], free_cells_y[i]] = c[free_cells_x[i], free_cells_y[i]] - u[free_cells_x[i]] - v[free_cells_y[i]]\n",
        "\n",
        "    negative_s_x, negative_s_y = np.where(s < 0)\n",
        "\n",
        "    for i in range(negative_s_x.shape[0]):\n",
        "        negative_s_core_x = negative_s_x[0]\n",
        "        negative_s_core_y = negative_s_y[0]\n",
        "\n",
        "        check_nodes(negative_s_core_x, negative_s_core_y, -1, 1)\n",
        "        check_nodes(negative_s_core_x, negative_s_core_y, 1, -1)\n",
        "        check_nodes(negative_s_core_x, negative_s_core_y, 1, 1)\n",
        "        check_nodes(negative_s_core_x, negative_s_core_y, -1, -1)\n",
        "\n",
        "    print(\"Iteration\", k, \"f =\", np.sum(c * x))\n",
        "    k = k + 1"
      ]
    },
    {
      "cell_type": "code",
      "execution_count": null,
      "metadata": {
        "id": "MhnIkN11AAjX",
        "outputId": "b83dce6c-a4d3-49c0-e401-8ad5b5953a58",
        "colab": {
          "base_uri": "https://localhost:8080/"
        }
      },
      "outputs": [
        {
          "output_type": "stream",
          "name": "stdout",
          "text": [
            "x before method:\n",
            " [[ 0 40  0  0  0]\n",
            " [ 0  0 25 20  0]\n",
            " [ 0  5  0 10 40]\n",
            " [30  0  0 20  0]]\n",
            "x after method:\n",
            " [[ 0 40  0  0  0]\n",
            " [ 0  0 25 20  0]\n",
            " [ 0  5  0 10 40]\n",
            " [30  0  0 20  0]]\n",
            "s matrix:\n",
            " [[ 5  0  1 -1  3]\n",
            " [ 3  2  0  0  4]\n",
            " [ 5  0  0  0  0]\n",
            " [ 0 -1 -1  0  0]]\n",
            "effectivity: 650\n"
          ]
        }
      ],
      "source": [
        "print(\"x before method:\\n\", x_base)\n",
        "print(\"x after method:\\n\", x)\n",
        "print(\"s matrix:\\n\", s)\n",
        "print(\"effectivity:\", np.sum(c * x))"
      ]
    }
  ],
  "metadata": {
    "kernelspec": {
      "display_name": "Python 3",
      "language": "python",
      "name": "python3"
    },
    "language_info": {
      "codemirror_mode": {
        "name": "ipython",
        "version": 3
      },
      "file_extension": ".py",
      "mimetype": "text/x-python",
      "name": "python",
      "nbconvert_exporter": "python",
      "pygments_lexer": "ipython3",
      "version": "3.11.5"
    },
    "orig_nbformat": 4,
    "colab": {
      "provenance": []
    }
  },
  "nbformat": 4,
  "nbformat_minor": 0
}