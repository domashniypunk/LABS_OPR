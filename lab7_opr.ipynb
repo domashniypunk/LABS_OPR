{
  "nbformat": 4,
  "nbformat_minor": 0,
  "metadata": {
    "colab": {
      "provenance": []
    },
    "kernelspec": {
      "name": "python3",
      "display_name": "Python 3"
    },
    "language_info": {
      "name": "python"
    }
  },
  "cells": [
    {
      "cell_type": "code",
      "source": [
        "import sys\n",
        "\n",
        "def tsp_nearest_neighbor(matrix, start_vertex):\n",
        "    num_vertices = len(matrix)\n",
        "    visited = [False] * num_vertices\n",
        "    visited[start_vertex] = True\n",
        "    path = [start_vertex]\n",
        "    total_distance = 0\n",
        "    current_vertex = start_vertex\n",
        "\n",
        "    for _ in range(num_vertices - 1):\n",
        "        next_vertex = None\n",
        "        min_distance = sys.maxsize\n",
        "\n",
        "        for neighbor in range(num_vertices):\n",
        "            if not visited[neighbor] and matrix[current_vertex][neighbor] < min_distance:\n",
        "                next_vertex = neighbor\n",
        "                min_distance = matrix[current_vertex][neighbor]\n",
        "\n",
        "        path.append(next_vertex)\n",
        "        total_distance += min_distance\n",
        "        visited[next_vertex] = True\n",
        "        current_vertex = next_vertex\n",
        "\n",
        "    # Вернуться в начальную вершину\n",
        "    path.append(start_vertex)\n",
        "    total_distance += matrix[current_vertex][start_vertex]\n",
        "\n",
        "    return path, total_distance\n",
        "\n",
        "\n",
        "# Матрица расстояний\n",
        "matrix = [\n",
        "    [float('inf'), 19, 25, 21, 18],\n",
        "    [1, float('inf'), 15, 12, 8],\n",
        "    [8, 9, float('inf'), 2, 19],\n",
        "    [14, 15, 4, float('inf'), 5],\n",
        "    [10, 17, 15, 27, float('inf')]\n",
        "]\n",
        "\n",
        "start_vertex = 0  # Начальная вершина\n",
        "\n",
        "path, total_distance = tsp_nearest_neighbor(matrix, start_vertex)\n",
        "\n",
        "# Вывод результатов\n",
        "print(\"Путь коммивояжера:\", path)\n",
        "print(\"Общее расстояние:\", total_distance)"
      ],
      "metadata": {
        "colab": {
          "base_uri": "https://localhost:8080/"
        },
        "id": "-GYyWQpe_aPO",
        "outputId": "f4935165-59db-4656-f4f2-81c43dd789fe"
      },
      "execution_count": null,
      "outputs": [
        {
          "output_type": "stream",
          "name": "stdout",
          "text": [
            "Путь коммивояжера: [0, 4, 2, 3, 1, 0]\n",
            "Общее расстояние: 51\n"
          ]
        }
      ]
    },
    {
      "cell_type": "code",
      "source": [
        "import sys\n",
        "\n",
        "def tsp_branch_and_bound(matrix):\n",
        "    num_vertices = len(matrix)\n",
        "    visited = [False] * num_vertices\n",
        "    path = []\n",
        "    min_cost = sys.maxsize\n",
        "\n",
        "    def branch_and_bound_helper(curr_vertex, curr_path, curr_cost):\n",
        "        nonlocal min_cost, path\n",
        "\n",
        "        if len(curr_path) == num_vertices:\n",
        "            curr_cost += matrix[curr_vertex][0]\n",
        "            if curr_cost < min_cost:\n",
        "                path = curr_path + [0]\n",
        "                min_cost = curr_cost\n",
        "            return\n",
        "\n",
        "        for next_vertex in range(num_vertices):\n",
        "            if not visited[next_vertex]:\n",
        "                visited[next_vertex] = True\n",
        "                branch_and_bound_helper(next_vertex, curr_path + [next_vertex], curr_cost + matrix[curr_vertex][next_vertex])\n",
        "                visited[next_vertex] = False\n",
        "\n",
        "    visited[0] = True\n",
        "    branch_and_bound_helper(0, [0], 0)\n",
        "\n",
        "    return path, min_cost\n",
        "\n",
        "\n",
        "# Пример матрицы расстояний\n",
        "matrix = [\n",
        "    [float('inf'), 19, 25, 21, 18],\n",
        "    [1, float('inf'), 15, 12, 8],\n",
        "    [8, 9, float('inf'), 2, 19],\n",
        "    [14, 15, 4, float('inf'), 5],\n",
        "    [10, 17, 15, 27, float('inf')]\n",
        "]\n",
        "\n",
        "path, min_cost = tsp_branch_and_bound(matrix)\n",
        "\n",
        "# Вывод промежуточных результатов в виде матрицы\n",
        "print(\"Матрица расстояний:\")\n",
        "for row in matrix:\n",
        "    print(row)\n",
        "print()\n",
        "print(\"Путь коммивояжера:\")\n",
        "for i in range(len(path) - 1):\n",
        "    start_vertex = path[i]\n",
        "    end_vertex = path[i + 1]\n",
        "    print(f\"Из вершины {start_vertex} в вершину {end_vertex}, расстояние {matrix[start_vertex][end_vertex]}\")\n",
        "print()\n",
        "print(\"Минимальное расстояние:\", min_cost)"
      ],
      "metadata": {
        "colab": {
          "base_uri": "https://localhost:8080/"
        },
        "id": "Q3FUZ-7_WZvN",
        "outputId": "2d23b855-0cdf-4f5e-cbf1-0a2673e79e54"
      },
      "execution_count": null,
      "outputs": [
        {
          "output_type": "stream",
          "name": "stdout",
          "text": [
            "Матрица расстояний:\n",
            "[inf, 19, 25, 21, 18]\n",
            "[1, inf, 15, 12, 8]\n",
            "[8, 9, inf, 2, 19]\n",
            "[14, 15, 4, inf, 5]\n",
            "[10, 17, 15, 27, inf]\n",
            "\n",
            "Путь коммивояжера:\n",
            "Из вершины 0 в вершину 2, расстояние 25\n",
            "Из вершины 2 в вершину 3, расстояние 2\n",
            "Из вершины 3 в вершину 4, расстояние 5\n",
            "Из вершины 4 в вершину 1, расстояние 17\n",
            "Из вершины 1 в вершину 0, расстояние 1\n",
            "\n",
            "Минимальное расстояние: 50\n"
          ]
        }
      ]
    }
  ]
}