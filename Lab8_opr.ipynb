{
  "nbformat": 4,
  "nbformat_minor": 0,
  "metadata": {
    "colab": {
      "provenance": []
    },
    "kernelspec": {
      "name": "python3",
      "display_name": "Python 3"
    },
    "language_info": {
      "name": "python"
    }
  },
  "cells": [
    {
      "cell_type": "code",
      "source": [
        "import sys\n",
        "\n",
        "def dijkstra(graph, start):\n",
        "    num_vertices = len(graph)\n",
        "    distances = [sys.maxsize] * num_vertices\n",
        "    visited = [False] * num_vertices\n",
        "    distances[start] = 0\n",
        "\n",
        "    for _ in range(num_vertices):\n",
        "        min_distance = sys.maxsize\n",
        "        min_vertex = -1\n",
        "\n",
        "        for v in range(num_vertices):\n",
        "            if not visited[v] and distances[v] < min_distance:\n",
        "                min_distance = distances[v]\n",
        "                min_vertex = v\n",
        "\n",
        "        visited[min_vertex] = True\n",
        "\n",
        "        for v in range(num_vertices):\n",
        "            if not visited[v] and graph[min_vertex][v] != float('inf') and distances[min_vertex] + graph[min_vertex][v] < distances[v]:\n",
        "                distances[v] = distances[min_vertex] + graph[min_vertex][v]\n",
        "\n",
        "    return distances\n",
        "\n",
        "graph = [\n",
        "    [float('inf'), 8, 12, 7, 5, 5, 11, 5, 13, float('inf')],\n",
        "    [0, float('inf'), float('inf'), 4, 7, 4, 5, float('inf'), float('inf'), float('inf')],\n",
        "    [0, 0, float('inf'), 13, 3, 2, 5, 5, float('inf'), float('inf')],\n",
        "    [0, 0, 0, float('inf'), 7, 6, float('inf'), 3, float('inf'), float('inf')],\n",
        "    [0, 0, 0, 0, float('inf'), 19, 12, 13, 15, float('inf')],\n",
        "    [0, 0, 0, 0, 0, float('inf'), 3, 16, float('inf'), float('inf')],\n",
        "    [0, 0, 0, 0, 0, 0, float('inf'), 6, 13, float('inf')],\n",
        "    [0, 0, 0, 0, 0, 0, 0, float('inf'), 7, 4],\n",
        "    [0, 0, 0, 0, 0, 0, 0, 0, float('inf'), 12],\n",
        "    [0, 0, 0, 0, 0, 0, 0, 0, 0, float('inf')]\n",
        "]\n",
        "\n",
        "start_vertex = 0\n",
        "shortest_distances = dijkstra(graph, start_vertex)\n",
        "\n",
        "total_distance = sum(shortest_distances)\n",
        "print(\"Shortest distances:\", shortest_distances)\n",
        "print(\"Total distance:\", total_distance)"
      ],
      "metadata": {
        "colab": {
          "base_uri": "https://localhost:8080/"
        },
        "id": "G3XTG0zxC0LY",
        "outputId": "753b36cf-834f-4257-8e36-a37ae43148e7"
      },
      "execution_count": null,
      "outputs": [
        {
          "output_type": "stream",
          "name": "stdout",
          "text": [
            "Shortest distances: [0, 5, 5, 5, 5, 5, 5, 5, 9, 9]\n",
            "Total distance: 53\n"
          ]
        }
      ]
    }
  ]
}